{
 "cells": [
  {
   "cell_type": "markdown",
   "id": "d949098d",
   "metadata": {},
   "source": [
    "#1. Основні типи даних"
   ]
  },
  {
   "cell_type": "code",
   "execution_count": 50,
   "id": "4cb77156",
   "metadata": {},
   "outputs": [
    {
     "name": "stdout",
     "output_type": "stream",
     "text": [
      "a = змінна з текстом\n",
      "b = 1\n",
      "Список: ['a', 1, 1.25, 'Слово', 'змінна з текстом']\n",
      "Словник: {'a': 'Слово', 'b': 1, 'змінна з текстом': 1}\n",
      "Кортеж: ('a', 'змінна з текстом')\n",
      "Множина: {'1змінна з текстом', 'ss'}\n"
     ]
    }
   ],
   "source": [
    "a = \"змінна з текстом\"\n",
    "b = 1  # числова змінна\n",
    "b1 = 1.1  # дійсне число\n",
    "c = [\"a\", 1, 1.25, \"Слово\", a]  # список (list)\n",
    "d = {\"a\": \"Слово\", \"b\": 1, a: b}  # словник (dict)\n",
    "e = (\"a\", a)  # кортеж (tuple)\n",
    "f = {\"ss\", str(b) + a}  # множина (set)\n",
    "\n",
    "print(\"a =\", a)\n",
    "print(\"b =\", b)\n",
    "print(\"Список:\", c)\n",
    "print(\"Словник:\", d)\n",
    "print(\"Кортеж:\", e)\n",
    "print(\"Множина:\", f)\n"
   ]
  },
  {
   "cell_type": "markdown",
   "id": "e3f66bd1",
   "metadata": {},
   "source": [
    "# 2. Вбудовані константи та зарезервовані слова"
   ]
  },
  {
   "cell_type": "code",
   "execution_count": 58,
   "id": "4c69f2f5",
   "metadata": {},
   "outputs": [
    {
     "name": "stdout",
     "output_type": "stream",
     "text": [
      "Перша константа: True\n",
      "Друга константа: None\n",
      "Третя константа: False\n",
      "Зарезервовані слова Python:\n",
      "['False', 'None', 'True', 'and', 'as', 'assert', 'async', 'await', 'break', 'class', 'continue', 'def', 'del', 'elif', 'else', 'except', 'finally', 'for', 'from', 'global', 'if', 'import', 'in', 'is', 'lambda', 'nonlocal', 'not', 'or', 'pass', 'raise', 'return', 'try', 'while', 'with', 'yield']\n"
     ]
    }
   ],
   "source": [
    "print(\"Перша константа:\", True)\n",
    "print(f\"Друга константа: {None}\")\n",
    "print(f\"Третя константа: {False}\")\n",
    "\n",
    "import keyword\n",
    "print(\"Зарезервовані слова Python:\")\n",
    "print(keyword.kwlist)\n"
   ]
  },
  {
   "cell_type": "markdown",
   "id": "a8031b73",
   "metadata": {},
   "source": [
    "# 3. Вбудовані функції"
   ]
  },
  {
   "cell_type": "code",
   "execution_count": 1,
   "id": "f77d0274",
   "metadata": {},
   "outputs": [
    {
     "name": "stdout",
     "output_type": "stream",
     "text": [
      "12.5 є рівним 12.5\n",
      "Максимум із 1, 2, 3: 3\n",
      "Мінімум із 5, 7, 9: 5\n",
      "Сума елементів: 15\n"
     ]
    }
   ],
   "source": [
    "print(abs(-12.5), \"є рівним\", abs(12.5))\n",
    "print(\"Максимум із 1, 2, 3:\", max(1, 2, 3))\n",
    "print(\"Мінімум із 5, 7, 9:\", min(5, 7, 9))\n",
    "print(\"Сума елементів:\", sum([1, 2, 3, 4, 5]))"
   ]
  },
  {
   "cell_type": "markdown",
   "id": "9746ebe7",
   "metadata": {},
   "source": [
    "# 4. Цикли (for, while)"
   ]
  },
  {
   "cell_type": "code",
   "execution_count": null,
   "id": "db65adc4",
   "metadata": {},
   "outputs": [
    {
     "name": "stdout",
     "output_type": "stream",
     "text": [
      "На позиції 0 знаходиться буква a\n",
      "На позиції 1 знаходиться буква b\n",
      "На позиції 2 знаходиться буква c\n",
      "Кінець циклу for!\n",
      "Рахунок: 0\n",
      "Рахунок: 1\n",
      "Рахунок: 2\n",
      "Колір: червоний\n",
      "Колір: зелений\n",
      "Колір: синій\n"
     ]
    }
   ],
   "source": [
    "letters = [\"a\", \"b\", \"c\"]\n",
    "for i in range(len(letters)):\n",
    "    print(f\"На позиції {i} знаходиться буква {letters[i]}\")\n",
    "else:\n",
    "    print(\"Кінець циклу for!\")\n",
    "\n",
    "# Цикл while\n",
    "count = 0\n",
    "while count < 3:\n",
    "    print(\"Рахунок:\", count)\n",
    "    count += 1\n",
    "\n",
    "# Цикл for по елементах\n",
    "colors = [\"червоний\", \"зелений\", \"синій\"]\n",
    "for color in colors:\n",
    "    print(f\"Колір: {color}\")\n"
   ]
  },
  {
   "cell_type": "markdown",
   "id": "b0f82bb2",
   "metadata": {},
   "source": [
    "# 5. Розгалуження (if-else)"
   ]
  },
  {
   "cell_type": "code",
   "execution_count": null,
   "id": "138b80cb",
   "metadata": {},
   "outputs": [
    {
     "name": "stdout",
     "output_type": "stream",
     "text": [
      "Значить А=1\n",
      "Повнолітній\n"
     ]
    }
   ],
   "source": [
    "from random import randint\n",
    "A = randint(0, 1)\n",
    "print(f\"Значить А={A}\" if A else \"Але може бути що А={}\".format(A))\n",
    "\n",
    "# Додатковий приклад\n",
    "age = 18\n",
    "if age >= 18:\n",
    "    print(\"Повнолітній\")\n",
    "else:\n",
    "    print(\"Неповнолітній\")"
   ]
  },
  {
   "cell_type": "markdown",
   "id": "1fb616ed",
   "metadata": {},
   "source": [
    "# 6. try , except , finally"
   ]
  },
  {
   "cell_type": "code",
   "execution_count": null,
   "id": "e7d99158",
   "metadata": {},
   "outputs": [
    {
     "name": "stdout",
     "output_type": "stream",
     "text": [
      "Виникла помилка доступу до словника: 'grade'\n",
      "Блок finally виконується завжди — навіть якщо була помилка.\n"
     ]
    }
   ],
   "source": [
    "# Створюємо словник з даними\n",
    "student = {\"name\": \"Олег\", \"age\": 20}\n",
    "\n",
    "try:\n",
    "    # Спроба доступу до неіснуючого ключа 'grade'\n",
    "    print(\"Оцінка студента:\", student[\"grade\"])\n",
    "except KeyError as error:\n",
    "    print(\"Виникла помилка доступу до словника:\", error)\n",
    "finally:\n",
    "    print(\"Блок finally виконується завжди — навіть якщо була помилка.\")\n"
   ]
  },
  {
   "cell_type": "markdown",
   "id": "dbb22533",
   "metadata": {},
   "source": [
    "# 7. Контекст-менеджер with"
   ]
  },
  {
   "cell_type": "code",
   "execution_count": 57,
   "id": "c80836a9",
   "metadata": {},
   "outputs": [
    {
     "name": "stdout",
     "output_type": "stream",
     "text": [
      "1) Це тестовий файл!\n",
      "2) Python працює!\n"
     ]
    }
   ],
   "source": [
    "with open(\"example.txt\", \"w\", encoding=\"utf-8\") as f:\n",
    "    f.write(\"Це тестовий файл!\\nPython працює!\")\n",
    "\n",
    "with open(\"example.txt\", \"r\", encoding=\"utf-8\") as f:\n",
    "    for i, line in enumerate(f):\n",
    "        print(f\"{i + 1}) {line.strip()}\")"
   ]
  },
  {
   "cell_type": "markdown",
   "id": "d69a7d7c",
   "metadata": {},
   "source": [
    "# 8. Лямбда-функції"
   ]
  },
  {
   "cell_type": "code",
   "execution_count": 76,
   "id": "3e203ff8",
   "metadata": {},
   "outputs": [
    {
     "name": "stdout",
     "output_type": "stream",
     "text": [
      "Звичайна функція повернула: 8 та 15\n",
      "Лямбда-функція: Результат отримав суму: 8, добуток: 15\n",
      "Комбіновано отримав суму: 9, добуток: 14\n"
     ]
    }
   ],
   "source": [
    "# Звичайна функція, яка повертає суму і добуток двох чисел\n",
    "def math_operations(a, b):\n",
    "    return a + b, a * b\n",
    "format_result = lambda name, total, product: f\"{name} отримав суму: {total}, добуток: {product}\"\n",
    "\n",
    "sum_, prod = math_operations(5, 3)\n",
    "print(\"Звичайна функція повернула:\", sum_, \"та\", prod)\n",
    "print(\"Лямбда-функція:\", format_result(\"Результат\", sum_, prod))\n",
    "print(format_result(\"Комбіновано\", *math_operations(7, 2)))\n",
    "\n"
   ]
  },
  {
   "cell_type": "markdown",
   "id": "1de68e04",
   "metadata": {},
   "source": [
    "# 9. Приклад відповіді від AI"
   ]
  },
  {
   "cell_type": "code",
   "execution_count": 77,
   "id": "3afd6bfd",
   "metadata": {},
   "outputs": [
    {
     "name": "stdout",
     "output_type": "stream",
     "text": [
      "Привіт, DIMA! Вітаю у світі Python 🐍\n",
      "Цикл номер 1\n",
      "Цикл номер 2\n",
      "Цикл номер 3\n"
     ]
    }
   ],
   "source": [
    "name = input(\"Введіть ваше ім'я: \")\n",
    "print(f\"Привіт, {name}! Вітаю у світі Python 🐍\")\n",
    "\n",
    "for i in range(3):\n",
    "    print(f\"Цикл номер {i + 1}\")"
   ]
  }
 ],
 "metadata": {
  "kernelspec": {
   "display_name": "Python 3",
   "language": "python",
   "name": "python3"
  },
  "language_info": {
   "codemirror_mode": {
    "name": "ipython",
    "version": 3
   },
   "file_extension": ".py",
   "mimetype": "text/x-python",
   "name": "python",
   "nbconvert_exporter": "python",
   "pygments_lexer": "ipython3",
   "version": "3.13.7"
  }
 },
 "nbformat": 4,
 "nbformat_minor": 5
}
