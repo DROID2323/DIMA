{
 "cells": [
  {
   "cell_type": "code",
   "execution_count": 1,
   "id": "72238689",
   "metadata": {},
   "outputs": [
    {
     "name": "stdout",
     "output_type": "stream",
     "text": [
      "DIMA start programming at 2025-09-10 23:36:21.358369. Lviv is the best city!\n"
     ]
    }
   ],
   "source": [
    "from datetime import datetime\n",
    "name = \"DIMA\"\n",
    "location = \"Lviv\"\n",
    "\n",
    "print(f\"{name} start programming at {datetime.now()}. {location} is the best city!\")"
   ]
  },
  {
   "cell_type": "markdown",
   "id": "8889e9d6",
   "metadata": {},
   "source": [
    "# Скрипт `2.ipynb` — Час старту та місто\n",
    "\n",
    "**Призначення:**  \n",
    "Вивести ім’я користувача, поточну дату та час запуску програми, а також повідомлення про місто."
   ]
  }
 ],
 "metadata": {
  "kernelspec": {
   "display_name": "Python 3",
   "language": "python",
   "name": "python3"
  },
  "language_info": {
   "codemirror_mode": {
    "name": "ipython",
    "version": 3
   },
   "file_extension": ".py",
   "mimetype": "text/x-python",
   "name": "python",
   "nbconvert_exporter": "python",
   "pygments_lexer": "ipython3",
   "version": "3.13.7"
  }
 },
 "nbformat": 4,
 "nbformat_minor": 5
}
